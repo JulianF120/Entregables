version https://git-lfs.github.com/spec/v1
oid sha256:ab6d75bdb5f96d8c8b4747517a435f0cca0d4f117e1656bcf6f70a4d7a5b6057
size 1414558
