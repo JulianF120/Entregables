version https://git-lfs.github.com/spec/v1
oid sha256:b24aeb692d87ae1b167d57ea299a42069580ea0e26bdd46bb74c7e677ecddf7d
size 1474340
